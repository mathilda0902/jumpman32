{
 "cells": [
  {
   "cell_type": "code",
   "execution_count": 1,
   "metadata": {},
   "outputs": [],
   "source": [
    "import pandas as pd"
   ]
  },
  {
   "cell_type": "code",
   "execution_count": 2,
   "metadata": {},
   "outputs": [],
   "source": [
    "from datetime import datetime"
   ]
  },
  {
   "cell_type": "code",
   "execution_count": 3,
   "metadata": {},
   "outputs": [],
   "source": [
    "df = pd.read_csv('analyze_me.csv', index_col=False)"
   ]
  },
  {
   "cell_type": "code",
   "execution_count": 4,
   "metadata": {},
   "outputs": [
    {
     "data": {
      "text/html": [
       "<div>\n",
       "<style scoped>\n",
       "    .dataframe tbody tr th:only-of-type {\n",
       "        vertical-align: middle;\n",
       "    }\n",
       "\n",
       "    .dataframe tbody tr th {\n",
       "        vertical-align: top;\n",
       "    }\n",
       "\n",
       "    .dataframe thead th {\n",
       "        text-align: right;\n",
       "    }\n",
       "</style>\n",
       "<table border=\"1\" class=\"dataframe\">\n",
       "  <thead>\n",
       "    <tr style=\"text-align: right;\">\n",
       "      <th></th>\n",
       "      <th>delivery_id</th>\n",
       "      <th>customer_id</th>\n",
       "      <th>jumpman_id</th>\n",
       "      <th>vehicle_type</th>\n",
       "      <th>pickup_place</th>\n",
       "      <th>place_category</th>\n",
       "      <th>item_name</th>\n",
       "      <th>item_quantity</th>\n",
       "      <th>item_category_name</th>\n",
       "      <th>how_long_it_took_to_order</th>\n",
       "      <th>pickup_lat</th>\n",
       "      <th>pickup_lon</th>\n",
       "      <th>dropoff_lat</th>\n",
       "      <th>dropoff_lon</th>\n",
       "      <th>when_the_delivery_started</th>\n",
       "      <th>when_the_Jumpman_arrived_at_pickup</th>\n",
       "      <th>when_the_Jumpman_left_pickup</th>\n",
       "      <th>when_the_Jumpman_arrived_at_dropoff</th>\n",
       "    </tr>\n",
       "  </thead>\n",
       "  <tbody>\n",
       "    <tr>\n",
       "      <th>0</th>\n",
       "      <td>1457973</td>\n",
       "      <td>327168</td>\n",
       "      <td>162381</td>\n",
       "      <td>van</td>\n",
       "      <td>Melt Shop</td>\n",
       "      <td>American</td>\n",
       "      <td>Lemonade</td>\n",
       "      <td>1.0</td>\n",
       "      <td>Beverages</td>\n",
       "      <td>00:19:58.582052</td>\n",
       "      <td>40.744607</td>\n",
       "      <td>-73.990742</td>\n",
       "      <td>40.752073</td>\n",
       "      <td>-73.985370</td>\n",
       "      <td>2014-10-26 13:51:59.898924</td>\n",
       "      <td>NaN</td>\n",
       "      <td>NaN</td>\n",
       "      <td>2014-10-26 14:52:06.313088</td>\n",
       "    </tr>\n",
       "    <tr>\n",
       "      <th>1</th>\n",
       "      <td>1377056</td>\n",
       "      <td>64452</td>\n",
       "      <td>104533</td>\n",
       "      <td>bicycle</td>\n",
       "      <td>Prince Street Pizza</td>\n",
       "      <td>Pizza</td>\n",
       "      <td>Neapolitan Rice Balls</td>\n",
       "      <td>3.0</td>\n",
       "      <td>Munchables</td>\n",
       "      <td>00:25:09.107093</td>\n",
       "      <td>40.723080</td>\n",
       "      <td>-73.994615</td>\n",
       "      <td>40.719722</td>\n",
       "      <td>-73.991858</td>\n",
       "      <td>2014-10-16 21:58:58.65491</td>\n",
       "      <td>2014-10-16 22:26:02.120931</td>\n",
       "      <td>2014-10-16 22:48:23.091253</td>\n",
       "      <td>2014-10-16 22:59:22.948873</td>\n",
       "    </tr>\n",
       "    <tr>\n",
       "      <th>2</th>\n",
       "      <td>1476547</td>\n",
       "      <td>83095</td>\n",
       "      <td>132725</td>\n",
       "      <td>bicycle</td>\n",
       "      <td>Bareburger</td>\n",
       "      <td>Burger</td>\n",
       "      <td>Bare Sodas</td>\n",
       "      <td>1.0</td>\n",
       "      <td>Drinks</td>\n",
       "      <td>00:06:44.541717</td>\n",
       "      <td>40.728478</td>\n",
       "      <td>-73.998392</td>\n",
       "      <td>40.728606</td>\n",
       "      <td>-73.995143</td>\n",
       "      <td>2014-10-28 21:39:52.654394</td>\n",
       "      <td>2014-10-28 21:37:18.793405</td>\n",
       "      <td>2014-10-28 21:59:09.98481</td>\n",
       "      <td>2014-10-28 22:04:40.634962</td>\n",
       "    </tr>\n",
       "    <tr>\n",
       "      <th>3</th>\n",
       "      <td>1485494</td>\n",
       "      <td>271149</td>\n",
       "      <td>157175</td>\n",
       "      <td>bicycle</td>\n",
       "      <td>Juice Press</td>\n",
       "      <td>Juice Bar</td>\n",
       "      <td>OMG! My Favorite Juice!</td>\n",
       "      <td>1.0</td>\n",
       "      <td>Cold Pressed Juices</td>\n",
       "      <td>NaN</td>\n",
       "      <td>40.738868</td>\n",
       "      <td>-74.002747</td>\n",
       "      <td>40.751257</td>\n",
       "      <td>-74.005634</td>\n",
       "      <td>2014-10-30 10:54:11.531894</td>\n",
       "      <td>2014-10-30 11:04:17.759577</td>\n",
       "      <td>2014-10-30 11:16:37.895816</td>\n",
       "      <td>2014-10-30 11:32:38.090061</td>\n",
       "    </tr>\n",
       "    <tr>\n",
       "      <th>4</th>\n",
       "      <td>1327707</td>\n",
       "      <td>122609</td>\n",
       "      <td>118095</td>\n",
       "      <td>bicycle</td>\n",
       "      <td>Blue Ribbon Sushi</td>\n",
       "      <td>Japanese</td>\n",
       "      <td>Spicy Tuna &amp; Tempura Flakes</td>\n",
       "      <td>2.0</td>\n",
       "      <td>Maki (Special Rolls)</td>\n",
       "      <td>00:03:45.035418</td>\n",
       "      <td>40.726110</td>\n",
       "      <td>-74.002492</td>\n",
       "      <td>40.709323</td>\n",
       "      <td>-74.015867</td>\n",
       "      <td>2014-10-10 00:07:18.450505</td>\n",
       "      <td>2014-10-10 00:14:42.702223</td>\n",
       "      <td>2014-10-10 00:25:19.400294</td>\n",
       "      <td>2014-10-10 00:48:27.150595</td>\n",
       "    </tr>\n",
       "  </tbody>\n",
       "</table>\n",
       "</div>"
      ],
      "text/plain": [
       "   delivery_id  customer_id  jumpman_id vehicle_type         pickup_place  \\\n",
       "0      1457973       327168      162381          van            Melt Shop   \n",
       "1      1377056        64452      104533      bicycle  Prince Street Pizza   \n",
       "2      1476547        83095      132725      bicycle           Bareburger   \n",
       "3      1485494       271149      157175      bicycle          Juice Press   \n",
       "4      1327707       122609      118095      bicycle    Blue Ribbon Sushi   \n",
       "\n",
       "  place_category                    item_name  item_quantity  \\\n",
       "0       American                     Lemonade            1.0   \n",
       "1          Pizza        Neapolitan Rice Balls            3.0   \n",
       "2         Burger                   Bare Sodas            1.0   \n",
       "3      Juice Bar      OMG! My Favorite Juice!            1.0   \n",
       "4       Japanese  Spicy Tuna & Tempura Flakes            2.0   \n",
       "\n",
       "     item_category_name how_long_it_took_to_order  pickup_lat  pickup_lon  \\\n",
       "0             Beverages           00:19:58.582052   40.744607  -73.990742   \n",
       "1            Munchables           00:25:09.107093   40.723080  -73.994615   \n",
       "2                Drinks           00:06:44.541717   40.728478  -73.998392   \n",
       "3   Cold Pressed Juices                       NaN   40.738868  -74.002747   \n",
       "4  Maki (Special Rolls)           00:03:45.035418   40.726110  -74.002492   \n",
       "\n",
       "   dropoff_lat  dropoff_lon   when_the_delivery_started  \\\n",
       "0    40.752073   -73.985370  2014-10-26 13:51:59.898924   \n",
       "1    40.719722   -73.991858   2014-10-16 21:58:58.65491   \n",
       "2    40.728606   -73.995143  2014-10-28 21:39:52.654394   \n",
       "3    40.751257   -74.005634  2014-10-30 10:54:11.531894   \n",
       "4    40.709323   -74.015867  2014-10-10 00:07:18.450505   \n",
       "\n",
       "  when_the_Jumpman_arrived_at_pickup when_the_Jumpman_left_pickup  \\\n",
       "0                                NaN                          NaN   \n",
       "1         2014-10-16 22:26:02.120931   2014-10-16 22:48:23.091253   \n",
       "2         2014-10-28 21:37:18.793405    2014-10-28 21:59:09.98481   \n",
       "3         2014-10-30 11:04:17.759577   2014-10-30 11:16:37.895816   \n",
       "4         2014-10-10 00:14:42.702223   2014-10-10 00:25:19.400294   \n",
       "\n",
       "  when_the_Jumpman_arrived_at_dropoff  \n",
       "0          2014-10-26 14:52:06.313088  \n",
       "1          2014-10-16 22:59:22.948873  \n",
       "2          2014-10-28 22:04:40.634962  \n",
       "3          2014-10-30 11:32:38.090061  \n",
       "4          2014-10-10 00:48:27.150595  "
      ]
     },
     "execution_count": 4,
     "metadata": {},
     "output_type": "execute_result"
    }
   ],
   "source": [
    "df.head()"
   ]
  },
  {
   "cell_type": "code",
   "execution_count": null,
   "metadata": {},
   "outputs": [],
   "source": [
    "datetime.strptime(df['when_the_delivery_started'][0], '%Y-%m-%d %H:%M:%S.%f')"
   ]
  },
  {
   "cell_type": "code",
   "execution_count": null,
   "metadata": {},
   "outputs": [],
   "source": [
    "df.isnull().sum()"
   ]
  },
  {
   "cell_type": "code",
   "execution_count": null,
   "metadata": {},
   "outputs": [],
   "source": [
    "df['delivery_ts'] = datetime.strptime(df['when_the_delivery_started'][0], '%Y-%m-%d %H:%M:%S.%f')\n",
    "df['pickup_start'] = datetime.strptime(df['when_the_Jumpman_arrived_at_pickup'][0], '%Y-%m-%d %H:%M:%S.%f')\n",
    "df['pickup_end'] = datetime.strptime(df['when_the_Jumpman_left_pickup'][0], '%Y-%m-%d %H:%M:%S.%f')\n",
    "df['dropoff'] = datetime.strptime(df['when_the_Jumpman_arrived_at_dropoff'][0], '%Y-%m-%d %H:%M:%S.%f')"
   ]
  },
  {
   "cell_type": "code",
   "execution_count": null,
   "metadata": {},
   "outputs": [],
   "source": [
    "df['when_the_Jumpman_arrived_at_pickup'][0]"
   ]
  },
  {
   "cell_type": "markdown",
   "metadata": {},
   "source": [
    "# geo plotting"
   ]
  },
  {
   "cell_type": "code",
   "execution_count": 5,
   "metadata": {},
   "outputs": [
    {
     "ename": "ImportError",
     "evalue": "dlopen(/anaconda3/lib/python3.6/site-packages/fiona/ogrext.cpython-36m-darwin.so, 2): Library not loaded: @rpath/libpoppler.71.dylib\n  Referenced from: /anaconda3/lib/libgdal.20.dylib\n  Reason: image not found",
     "output_type": "error",
     "traceback": [
      "\u001b[0;31m---------------------------------------------------------------------------\u001b[0m",
      "\u001b[0;31mImportError\u001b[0m                               Traceback (most recent call last)",
      "\u001b[0;32m<ipython-input-5-2d5524a31348>\u001b[0m in \u001b[0;36m<module>\u001b[0;34m()\u001b[0m\n\u001b[1;32m      1\u001b[0m \u001b[0;32mimport\u001b[0m \u001b[0mmatplotlib\u001b[0m\u001b[0;34m.\u001b[0m\u001b[0mpyplot\u001b[0m \u001b[0;32mas\u001b[0m \u001b[0mplt\u001b[0m\u001b[0;34m\u001b[0m\u001b[0;34m\u001b[0m\u001b[0m\n\u001b[1;32m      2\u001b[0m \u001b[0;32mimport\u001b[0m \u001b[0mdescartes\u001b[0m\u001b[0;34m\u001b[0m\u001b[0;34m\u001b[0m\u001b[0m\n\u001b[0;32m----> 3\u001b[0;31m \u001b[0;32mimport\u001b[0m \u001b[0mgeopandas\u001b[0m \u001b[0;32mas\u001b[0m \u001b[0mgpd\u001b[0m\u001b[0;34m\u001b[0m\u001b[0;34m\u001b[0m\u001b[0m\n\u001b[0m\u001b[1;32m      4\u001b[0m \u001b[0;32mfrom\u001b[0m \u001b[0mshapely\u001b[0m\u001b[0;34m.\u001b[0m\u001b[0mgoemetry\u001b[0m \u001b[0;32mimport\u001b[0m \u001b[0mPoint\u001b[0m\u001b[0;34m,\u001b[0m \u001b[0mPolygon\u001b[0m\u001b[0;34m\u001b[0m\u001b[0;34m\u001b[0m\u001b[0m\n\u001b[1;32m      5\u001b[0m \u001b[0;34m\u001b[0m\u001b[0m\n",
      "\u001b[0;32m/anaconda3/lib/python3.6/site-packages/geopandas/__init__.py\u001b[0m in \u001b[0;36m<module>\u001b[0;34m()\u001b[0m\n\u001b[1;32m      3\u001b[0m \u001b[0;32mfrom\u001b[0m \u001b[0mgeopandas\u001b[0m\u001b[0;34m.\u001b[0m\u001b[0mgeodataframe\u001b[0m \u001b[0;32mimport\u001b[0m \u001b[0mpoints_from_xy\u001b[0m\u001b[0;34m\u001b[0m\u001b[0;34m\u001b[0m\u001b[0m\n\u001b[1;32m      4\u001b[0m \u001b[0;34m\u001b[0m\u001b[0m\n\u001b[0;32m----> 5\u001b[0;31m \u001b[0;32mfrom\u001b[0m \u001b[0mgeopandas\u001b[0m\u001b[0;34m.\u001b[0m\u001b[0mio\u001b[0m\u001b[0;34m.\u001b[0m\u001b[0mfile\u001b[0m \u001b[0;32mimport\u001b[0m \u001b[0mread_file\u001b[0m\u001b[0;34m\u001b[0m\u001b[0;34m\u001b[0m\u001b[0m\n\u001b[0m\u001b[1;32m      6\u001b[0m \u001b[0;32mfrom\u001b[0m \u001b[0mgeopandas\u001b[0m\u001b[0;34m.\u001b[0m\u001b[0mio\u001b[0m\u001b[0;34m.\u001b[0m\u001b[0msql\u001b[0m \u001b[0;32mimport\u001b[0m \u001b[0mread_postgis\u001b[0m\u001b[0;34m\u001b[0m\u001b[0;34m\u001b[0m\u001b[0m\n\u001b[1;32m      7\u001b[0m \u001b[0;32mfrom\u001b[0m \u001b[0mgeopandas\u001b[0m\u001b[0;34m.\u001b[0m\u001b[0mtools\u001b[0m \u001b[0;32mimport\u001b[0m \u001b[0msjoin\u001b[0m\u001b[0;34m\u001b[0m\u001b[0;34m\u001b[0m\u001b[0m\n",
      "\u001b[0;32m/anaconda3/lib/python3.6/site-packages/geopandas/io/file.py\u001b[0m in \u001b[0;36m<module>\u001b[0;34m()\u001b[0m\n\u001b[1;32m      2\u001b[0m \u001b[0;32mfrom\u001b[0m \u001b[0mdistutils\u001b[0m\u001b[0;34m.\u001b[0m\u001b[0mversion\u001b[0m \u001b[0;32mimport\u001b[0m \u001b[0mLooseVersion\u001b[0m\u001b[0;34m\u001b[0m\u001b[0;34m\u001b[0m\u001b[0m\n\u001b[1;32m      3\u001b[0m \u001b[0;34m\u001b[0m\u001b[0m\n\u001b[0;32m----> 4\u001b[0;31m \u001b[0;32mimport\u001b[0m \u001b[0mfiona\u001b[0m\u001b[0;34m\u001b[0m\u001b[0;34m\u001b[0m\u001b[0m\n\u001b[0m\u001b[1;32m      5\u001b[0m \u001b[0;32mimport\u001b[0m \u001b[0mnumpy\u001b[0m \u001b[0;32mas\u001b[0m \u001b[0mnp\u001b[0m\u001b[0;34m\u001b[0m\u001b[0;34m\u001b[0m\u001b[0m\n\u001b[1;32m      6\u001b[0m \u001b[0;34m\u001b[0m\u001b[0m\n",
      "\u001b[0;32m/anaconda3/lib/python3.6/site-packages/fiona/__init__.py\u001b[0m in \u001b[0;36m<module>\u001b[0;34m()\u001b[0m\n\u001b[1;32m     67\u001b[0m \u001b[0;32mfrom\u001b[0m \u001b[0msix\u001b[0m \u001b[0;32mimport\u001b[0m \u001b[0mstring_types\u001b[0m\u001b[0;34m\u001b[0m\u001b[0;34m\u001b[0m\u001b[0m\n\u001b[1;32m     68\u001b[0m \u001b[0;34m\u001b[0m\u001b[0m\n\u001b[0;32m---> 69\u001b[0;31m \u001b[0;32mfrom\u001b[0m \u001b[0mfiona\u001b[0m\u001b[0;34m.\u001b[0m\u001b[0mcollection\u001b[0m \u001b[0;32mimport\u001b[0m \u001b[0mCollection\u001b[0m\u001b[0;34m,\u001b[0m \u001b[0mBytesCollection\u001b[0m\u001b[0;34m,\u001b[0m \u001b[0mvsi_path\u001b[0m\u001b[0;34m\u001b[0m\u001b[0;34m\u001b[0m\u001b[0m\n\u001b[0m\u001b[1;32m     70\u001b[0m \u001b[0;32mfrom\u001b[0m \u001b[0mfiona\u001b[0m\u001b[0;34m.\u001b[0m\u001b[0m_drivers\u001b[0m \u001b[0;32mimport\u001b[0m \u001b[0mdriver_count\u001b[0m\u001b[0;34m,\u001b[0m \u001b[0mGDALEnv\u001b[0m\u001b[0;34m\u001b[0m\u001b[0;34m\u001b[0m\u001b[0m\n\u001b[1;32m     71\u001b[0m \u001b[0;32mfrom\u001b[0m \u001b[0mfiona\u001b[0m\u001b[0;34m.\u001b[0m\u001b[0mdrvsupport\u001b[0m \u001b[0;32mimport\u001b[0m \u001b[0msupported_drivers\u001b[0m\u001b[0;34m\u001b[0m\u001b[0;34m\u001b[0m\u001b[0m\n",
      "\u001b[0;32m/anaconda3/lib/python3.6/site-packages/fiona/collection.py\u001b[0m in \u001b[0;36m<module>\u001b[0;34m()\u001b[0m\n\u001b[1;32m      7\u001b[0m \u001b[0;34m\u001b[0m\u001b[0m\n\u001b[1;32m      8\u001b[0m \u001b[0;32mfrom\u001b[0m \u001b[0mfiona\u001b[0m \u001b[0;32mimport\u001b[0m \u001b[0mcompat\u001b[0m\u001b[0;34m\u001b[0m\u001b[0;34m\u001b[0m\u001b[0m\n\u001b[0;32m----> 9\u001b[0;31m \u001b[0;32mfrom\u001b[0m \u001b[0mfiona\u001b[0m\u001b[0;34m.\u001b[0m\u001b[0mogrext\u001b[0m \u001b[0;32mimport\u001b[0m \u001b[0mIterator\u001b[0m\u001b[0;34m,\u001b[0m \u001b[0mItemsIterator\u001b[0m\u001b[0;34m,\u001b[0m \u001b[0mKeysIterator\u001b[0m\u001b[0;34m\u001b[0m\u001b[0;34m\u001b[0m\u001b[0m\n\u001b[0m\u001b[1;32m     10\u001b[0m \u001b[0;32mfrom\u001b[0m \u001b[0mfiona\u001b[0m\u001b[0;34m.\u001b[0m\u001b[0mogrext\u001b[0m \u001b[0;32mimport\u001b[0m \u001b[0mSession\u001b[0m\u001b[0;34m,\u001b[0m \u001b[0mWritingSession\u001b[0m\u001b[0;34m\u001b[0m\u001b[0;34m\u001b[0m\u001b[0m\n\u001b[1;32m     11\u001b[0m from fiona.ogrext import (\n",
      "\u001b[0;31mImportError\u001b[0m: dlopen(/anaconda3/lib/python3.6/site-packages/fiona/ogrext.cpython-36m-darwin.so, 2): Library not loaded: @rpath/libpoppler.71.dylib\n  Referenced from: /anaconda3/lib/libgdal.20.dylib\n  Reason: image not found"
     ]
    }
   ],
   "source": [
    "import matplotlib.pyplot as plt\n",
    "import descartes\n",
    "import geopandas as gpd\n",
    "from shapely.goemetry import Point, Polygon\n",
    "\n",
    "%matplotlib inline"
   ]
  },
  {
   "cell_type": "code",
   "execution_count": null,
   "metadata": {},
   "outputs": [],
   "source": []
  }
 ],
 "metadata": {
  "kernelspec": {
   "display_name": "Python 3",
   "language": "python",
   "name": "python3"
  },
  "language_info": {
   "codemirror_mode": {
    "name": "ipython",
    "version": 3
   },
   "file_extension": ".py",
   "mimetype": "text/x-python",
   "name": "python",
   "nbconvert_exporter": "python",
   "pygments_lexer": "ipython3",
   "version": "3.6.8"
  }
 },
 "nbformat": 4,
 "nbformat_minor": 2
}
